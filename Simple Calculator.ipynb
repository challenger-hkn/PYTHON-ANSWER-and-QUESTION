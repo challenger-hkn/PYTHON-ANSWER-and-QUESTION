{
 "cells": [
  {
   "cell_type": "markdown",
   "metadata": {},
   "source": [
    "### Simple Calculator\n",
    "Create a function that takes two numbers and a mathematical operator + - / * and will perform a calculation with the given numbers.\n",
    "If the input tries to divide by 0, return: \"Can't divide by 0!\""
   ]
  },
  {
   "cell_type": "code",
   "execution_count": 5,
   "metadata": {},
   "outputs": [
    {
     "name": "stdout",
     "output_type": "stream",
     "text": [
      "3.0 + 34.0 = 37.0.\n"
     ]
    }
   ],
   "source": [
    "def calculator():\n",
    "    num1 = float(input('Enter the first number > '))\n",
    "    operator = input('Enter the operator > ')\n",
    "    num2 = float(input('Enter the second number > '))\n",
    "\n",
    "    if operator == '+':\n",
    "        result = num1 + num2\n",
    "    elif operator == '-':\n",
    "        result = num1 - num2\n",
    "    elif operator == '/':\n",
    "        if num2 == 0:\n",
    "            print(\"This numnber can't divide by 0!\")\n",
    "        else:\n",
    "            result = num1 / num2\n",
    "    else:\n",
    "        result = num1 * num2\n",
    "    print(f'{num1} {operator} {num2} = {result}.')\n",
    "    \n",
    "    \n",
    "calculator()"
   ]
  },
  {
   "cell_type": "code",
   "execution_count": null,
   "metadata": {},
   "outputs": [],
   "source": []
  }
 ],
 "metadata": {
  "kernelspec": {
   "display_name": "Python 3",
   "language": "python",
   "name": "python3"
  },
  "language_info": {
   "codemirror_mode": {
    "name": "ipython",
    "version": 3
   },
   "file_extension": ".py",
   "mimetype": "text/x-python",
   "name": "python",
   "nbconvert_exporter": "python",
   "pygments_lexer": "ipython3",
   "version": "3.9.7"
  }
 },
 "nbformat": 4,
 "nbformat_minor": 4
}
