{
 "cells": [
  {
   "cell_type": "code",
   "execution_count": 26,
   "metadata": {},
   "outputs": [],
   "source": [
    "def password_control(params):\n",
    "    import re\n",
    "    pasword = params\n",
    "    while True:\n",
    "        try:\n",
    "            if len(pasword) >= 8:\n",
    "                if not re.search(\"[a-z]\", pasword):\n",
    "                    raise Exception(\"Please, use lowercase letters\")\n",
    "                elif not re.search(\"[A-Z]\", pasword):\n",
    "                    raise Exception(\"Please, use uppercase letters\")\n",
    "                elif not re.search(\"[0-9]\", pasword):\n",
    "                    raise Exception(\"Please, use number\")\n",
    "                elif not re.search (\"[!#$_-]\", pasword):\n",
    "                    raise Exception(\"Please use special characters\")\n",
    "            else:\n",
    "                raise Exception(\"The length of your password must be at least 8 characters.\")\n",
    "\n",
    "        except Exception as hata:\n",
    "            print(\"Your password is invalid,\", hata)\n",
    "            pasword=input(\"Pease enter a password:\")\n",
    "            break\n",
    "        else:\n",
    "            print(\"Your password is true\")\n",
    "            break"
   ]
  },
  {
   "cell_type": "code",
   "execution_count": 28,
   "metadata": {},
   "outputs": [
    {
     "name": "stdout",
     "output_type": "stream",
     "text": [
      "Your password is true\n"
     ]
    }
   ],
   "source": [
    "password_control(\"Mypasword3#\")"
   ]
  }
 ],
 "metadata": {
  "interpreter": {
   "hash": "d236d7b3228ee6a6cbc53ecb17131860487ee4983bed45a4cd1dc268dc6830c4"
  },
  "kernelspec": {
   "display_name": "Python 3.9.7 ('pythonProject')",
   "language": "python",
   "name": "python3"
  },
  "language_info": {
   "codemirror_mode": {
    "name": "ipython",
    "version": 3
   },
   "file_extension": ".py",
   "mimetype": "text/x-python",
   "name": "python",
   "nbconvert_exporter": "python",
   "pygments_lexer": "ipython3",
   "version": "3.9.7"
  },
  "orig_nbformat": 4
 },
 "nbformat": 4,
 "nbformat_minor": 2
}
