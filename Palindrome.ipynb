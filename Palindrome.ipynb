{
 "cells": [
  {
   "cell_type": "markdown",
   "metadata": {},
   "source": [
    "Coding Challenge -1 : Palindrome\n",
    "Purpose of the this coding challenge is to solve a control flow statements issue.\n",
    "\n",
    "Learning Outcomes\n",
    "At the end of the this coding challenge, students will be able to;\n",
    "\n",
    "understand the use of loops.\n",
    "understand the importance of alphanumeric string methods.\n",
    "get a better understanding in manipulating strings.\n",
    "Problem Statement\n",
    "Write a function/functions that checks whether the sentence you get from the user is a palindrome. (Do not consider punctuation and special characters. Only consider \"alphanumeric\" characters.)\n",
    "\n",
    "input : \"ey edip adana'da, pide ye!\"\n",
    "\n",
    "output : \"ey edip adana'da, pide ye!\" is a palindrome"
   ]
  },
  {
   "cell_type": "code",
   "execution_count": 5,
   "metadata": {},
   "outputs": [
    {
     "name": "stdout",
     "output_type": "stream",
     "text": [
      "not palindrom\n"
     ]
    }
   ],
   "source": [
    "def palindrome(input):\n",
    "    alphanumeric=[]\n",
    "    for i in input:\n",
    "        if i.isalpha():\n",
    "            alphanumeric += i\n",
    "\n",
    "    if alphanumeric[::1]==alphanumeric[::-1]:\n",
    "        return (\"polindrome\")\n",
    "    else:\n",
    "        print (\"not palindrom\")\n",
    "\n",
    "palindrome(\"ey edip adana'da pide, ye\")\n"
   ]
  },
  {
   "cell_type": "code",
   "execution_count": 6,
   "metadata": {},
   "outputs": [
    {
     "name": "stdout",
     "output_type": "stream",
     "text": [
      "not palindrom\n"
     ]
    }
   ],
   "source": [
    "palindrome(\"Words are intresting\")"
   ]
  }
 ],
 "metadata": {
  "interpreter": {
   "hash": "d236d7b3228ee6a6cbc53ecb17131860487ee4983bed45a4cd1dc268dc6830c4"
  },
  "kernelspec": {
   "display_name": "Python 3.9.7 ('pythonProject')",
   "language": "python",
   "name": "python3"
  },
  "language_info": {
   "codemirror_mode": {
    "name": "ipython",
    "version": 3
   },
   "file_extension": ".py",
   "mimetype": "text/x-python",
   "name": "python",
   "nbconvert_exporter": "python",
   "pygments_lexer": "ipython3",
   "version": "3.9.7"
  },
  "orig_nbformat": 4
 },
 "nbformat": 4,
 "nbformat_minor": 2
}
