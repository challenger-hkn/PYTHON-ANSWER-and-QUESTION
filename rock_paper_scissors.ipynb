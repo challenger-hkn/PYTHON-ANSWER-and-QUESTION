{
 "cells": [
  {
   "attachments": {},
   "cell_type": "markdown",
   "metadata": {
    "slideshow": {
     "slide_type": "subslide"
    }
   },
   "source": [
    "<div style=\"text-align: center\"><font size=\"8\">Rock, Paper, Scissors 🗿📄✂️</font></div>\n",
    "\n",
    "\n",
    "\n",
    "Write a program that takes two users input and compares them? <br>\n",
    "If the two inputs are the same, print \"It's a tie!\". <br>\n",
    "If the two inputs are different, print \"Player 1 wins!\" or \"Player 2 wins!\" depending on which input is larger."
   ]
  },
  {
   "cell_type": "code",
   "execution_count": 1,
   "metadata": {},
   "outputs": [],
   "source": [
    "import pandas as pd\n",
    "import numpy as np"
   ]
  },
  {
   "cell_type": "code",
   "execution_count": 2,
   "metadata": {},
   "outputs": [
    {
     "name": "stdout",
     "output_type": "stream",
     "text": [
      " player 1 selected: rock\n",
      " player 2 selected: paper\n",
      "Player 2 is winner\n"
     ]
    }
   ],
   "source": [
    "user1=input(\"Please ener your choices: rock, paper, scissors:\").lower()\n",
    "user2=input(\"Please ener your choices: rock, paper, scissors:\").lower()  \n",
    "play_list=[\"paper\",\"rock\", \"scissors\"] \n",
    "print(f\" player 1 selected: {user1}\")\n",
    "print(f\" player 2 selected: {user2}\")\n",
    "if (user1 or user2) not in play_list:\n",
    "    print(\"Wrong input, plese enter one of them [rock, paper, scissors]\")\n",
    "elif (user1==\"rock\" and user2==\"scissors\") or (user1==\"paper\" and user2==\"rock\") or (user1==\"scissors\" and user2==\"paper\"):\n",
    "    print(\"Player 1 is winner\")\n",
    "elif user1==user2:\n",
    "    print(\"Its a tie\")\n",
    "else:\n",
    "    print(\"Player 2 is winner\")"
   ]
  },
  {
   "attachments": {},
   "cell_type": "markdown",
   "metadata": {},
   "source": [
    "## Player 1 and Computer"
   ]
  },
  {
   "cell_type": "code",
   "execution_count": 1,
   "metadata": {},
   "outputs": [],
   "source": [
    "import random\n",
    "from random import randint"
   ]
  },
  {
   "cell_type": "code",
   "execution_count": 7,
   "metadata": {},
   "outputs": [
    {
     "name": "stdout",
     "output_type": "stream",
     "text": [
      " Player selected: paper\n",
      " Computer selected: rock\n",
      "Player 1 is winner\n"
     ]
    }
   ],
   "source": [
    "play_list=[\"paper\",\"rock\", \"scissors\"] \n",
    "user=input(\"Please ener your choices: rock, paper, scissors:\").lower()\n",
    "computer=play_list[randint(0,2)]\n",
    "\n",
    "print(f\" Player selected: {user}\")\n",
    "print(f\" Computer selected: {computer}\")\n",
    "if user  not in play_list:\n",
    "    print(\"Wrong input, plese enter one of them [rock, paper, scissors]\")\n",
    "elif (user==\"rock\" and computer==\"scissors\") or (user==\"paper\" and computer==\"rock\") or (user==\"scissors\" and computer==\"paper\"):\n",
    "    print(\"Player 1 is winner\")\n",
    "elif user==computer:\n",
    "    print(\"Its a tie\")\n",
    "else:\n",
    "    print(\"Computer is winner\")"
   ]
  },
  {
   "cell_type": "markdown",
   "metadata": {},
   "source": [
    "## Player 1 and Computer + Score"
   ]
  },
  {
   "cell_type": "code",
   "execution_count": 21,
   "metadata": {},
   "outputs": [
    {
     "name": "stdout",
     "output_type": "stream",
     "text": [
      " Player selected: rock\n",
      " Computer selected: scissors\n",
      "Player 1 is winner\n",
      " 1-0\n"
     ]
    }
   ],
   "source": [
    "play_list=[\"paper\",\"rock\", \"scissors\"] \n",
    "user=input(\"Please ener your choices: rock, paper, scissors:\").lower()\n",
    "computer=play_list[randint(0,2)]\n",
    "print(f\" Player selected: {user}\")\n",
    "print(f\" Computer selected: {computer}\")\n",
    "player1=0\n",
    "computers=0\n",
    "\n",
    "if user  not in play_list:\n",
    "    print(\"Wrong input, plese enter one of them [rock, paper, scissors]\")\n",
    "elif (user==\"rock\" and computer==\"scissors\") or (user==\"paper\" and computer==\"rock\") or (user==\"scissors\" and computer==\"paper\"):\n",
    "    player1 +=1\n",
    "    print(\"Player 1 is winner\")\n",
    "elif user==computer:\n",
    "    print(\"Its a tie\")\n",
    "else:\n",
    "    computers +=1\n",
    "    print(\"Computer is winner\")\n",
    "score = print(f\" {player1}-{computers}\")\n",
    "    "
   ]
  },
  {
   "attachments": {},
   "cell_type": "markdown",
   "metadata": {},
   "source": [
    "## Player 1 and Computer + 5 Round Score"
   ]
  },
  {
   "cell_type": "code",
   "execution_count": 7,
   "metadata": {},
   "outputs": [
    {
     "name": "stdout",
     "output_type": "stream",
     "text": [
      " Player's choice: rock\n",
      " Computer's choice: paper\n",
      "Computer is winner\n",
      " 0-1\n",
      " Player's choice: paper\n",
      " Computer's choice: paper\n",
      "Its a tie\n",
      " 0-1\n",
      " Player's choice: paper\n",
      " Computer's choice: rock\n",
      "Player 1 is winner\n",
      " 1-1\n",
      " Player's choice: rock\n",
      " Computer's choice: rock\n",
      "Its a tie\n",
      " 1-1\n",
      " Player's choice: roks\n",
      " Computer's choice: rock\n",
      "Wrong input, plese enter one of them [rock, paper, scissors]\n",
      " 1-1\n",
      " Player's choice: rock\n",
      " Computer's choice: rock\n",
      "Its a tie\n",
      " 1-1\n",
      " The result of 5 round is--->>> Player:1 - Computer:1\n",
      " It is tie\n"
     ]
    }
   ],
   "source": [
    "play_list=[\"paper\",\"rock\", \"scissors\"] \n",
    "player=0\n",
    "computers=0\n",
    "round=1\n",
    "\n",
    "while round <6 :\n",
    "    user=input(\"Please ener your choices: rock, paper, scissors:\").lower()\n",
    "    computer=play_list[randint(0,2)]\n",
    "    print(f\" Player's choice: {user}\")\n",
    "    print(f\" Computer's choice: {computer}\")\n",
    "\n",
    "    if user  not in play_list:\n",
    "        print(\"Wrong input, plese enter one of them [rock, paper, scissors]\")\n",
    "    elif (user==\"rock\" and computer==\"scissors\") or (user==\"paper\" and computer==\"rock\") or (user==\"scissors\" and computer==\"paper\"):\n",
    "        player +=1\n",
    "        print(\"Player 1 is winner\")\n",
    "        round +=1\n",
    "    elif user==computer:\n",
    "        print(\"Its a tie\")\n",
    "        round +=1\n",
    "    else:\n",
    "        computers +=1\n",
    "        round +=1\n",
    "        print(\"Computer is winner\")\n",
    "    score = print(f\" {player}-{computers}\")\n",
    "result = print(f\" The result of 5 round is--->>> Player:{player} - Computer:{computers}\")\n",
    "if player > computers: # if you want\n",
    "    print(f\" Player Winn\")\n",
    "elif player == computers:\n",
    "    print(f\" It is tie\")\n",
    "else:\n",
    "    print(f\" Computer Winn\")\n",
    "\n",
    "    "
   ]
  }
 ],
 "metadata": {
  "kernelspec": {
   "display_name": "Python 3 (ipykernel)",
   "language": "python",
   "name": "python3"
  },
  "language_info": {
   "codemirror_mode": {
    "name": "ipython",
    "version": 3
   },
   "file_extension": ".py",
   "mimetype": "text/x-python",
   "name": "python",
   "nbconvert_exporter": "python",
   "pygments_lexer": "ipython3",
   "version": "3.9.7"
  }
 },
 "nbformat": 4,
 "nbformat_minor": 4
}
