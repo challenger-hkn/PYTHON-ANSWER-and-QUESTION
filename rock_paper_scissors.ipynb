{
 "cells": [
  {
   "attachments": {},
   "cell_type": "markdown",
   "metadata": {
    "slideshow": {
     "slide_type": "subslide"
    }
   },
   "source": [
    "<div style=\"text-align: center\"><font size=\"8\">Rock, Paper, Scissors 🗿📄✂️</font></div>\n",
    "\n",
    "\n",
    "\n",
    "Write a program that takes two users input and compares them? <br>\n",
    "If the two inputs are the same, print \"It's a tie!\". <br>\n",
    "If the two inputs are different, print \"Player 1 wins!\" or \"Player 2 wins!\" depending on which input is larger."
   ]
  },
  {
   "cell_type": "code",
   "execution_count": 2,
   "metadata": {},
   "outputs": [],
   "source": [
    "import pandas as pd\n",
    "import numpy as np"
   ]
  },
  {
   "cell_type": "code",
   "execution_count": 8,
   "metadata": {},
   "outputs": [
    {
     "name": "stdout",
     "output_type": "stream",
     "text": [
      "Wrong input, plese enter one of them [rock, paper, scissors]\n"
     ]
    }
   ],
   "source": [
    "user1=input(\"Please ener your choices: rock, paper, scissors:\").lower()\n",
    "user2=input(\"Please ener your choices: rock, paper, scissors:\").lower()  \n",
    "list=[\"paper\",\"rock\", \"scissors\"] \n",
    "if user1 or user2 not in list:\n",
    "    print(\"Wrong input, plese enter one of them [rock, paper, scissors]\")\n",
    "elif (user1==\"rock\" and user2==\"scissors\") or (user1==\"paper\" and user2==\"rock\") or (user1==\"scissors\" and user2==\"paper\"):\n",
    "    print(\"Player 1 is winner\")\n",
    "elif user1==user2:\n",
    "    print(\"Its a tie\")\n",
    "else:\n",
    "    print(\"Player 2 is winner\")"
   ]
  }
 ],
 "metadata": {
  "kernelspec": {
   "display_name": "Python 3 (ipykernel)",
   "language": "python",
   "name": "python3"
  },
  "language_info": {
   "codemirror_mode": {
    "name": "ipython",
    "version": 3
   },
   "file_extension": ".py",
   "mimetype": "text/x-python",
   "name": "python",
   "nbconvert_exporter": "python",
   "pygments_lexer": "ipython3",
   "version": "3.9.7"
  }
 },
 "nbformat": 4,
 "nbformat_minor": 4
}
